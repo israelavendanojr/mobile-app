{
 "cells": [
  {
   "cell_type": "code",
   "execution_count": null,
   "id": "64b23d2e",
   "metadata": {},
   "outputs": [
    {
     "name": "stdout",
     "output_type": "stream",
     "text": [
      "Requirement already satisfied: torch in /Users/israelavendanojr./Desktop/project-repos/mobile-app/venv/lib/python3.12/site-packages (2.7.1)\n",
      "Requirement already satisfied: torchvision in /Users/israelavendanojr./Desktop/project-repos/mobile-app/venv/lib/python3.12/site-packages (0.22.1)\n",
      "Requirement already satisfied: torchaudio in /Users/israelavendanojr./Desktop/project-repos/mobile-app/venv/lib/python3.12/site-packages (2.7.1)\n",
      "Requirement already satisfied: filelock in /Users/israelavendanojr./Desktop/project-repos/mobile-app/venv/lib/python3.12/site-packages (from torch) (3.18.0)\n",
      "Requirement already satisfied: typing-extensions>=4.10.0 in /Users/israelavendanojr./Desktop/project-repos/mobile-app/venv/lib/python3.12/site-packages (from torch) (4.14.1)\n",
      "Requirement already satisfied: setuptools in /Users/israelavendanojr./Desktop/project-repos/mobile-app/venv/lib/python3.12/site-packages (from torch) (80.9.0)\n",
      "Requirement already satisfied: sympy>=1.13.3 in /Users/israelavendanojr./Desktop/project-repos/mobile-app/venv/lib/python3.12/site-packages (from torch) (1.14.0)\n",
      "Requirement already satisfied: networkx in /Users/israelavendanojr./Desktop/project-repos/mobile-app/venv/lib/python3.12/site-packages (from torch) (3.5)\n",
      "Requirement already satisfied: jinja2 in /Users/israelavendanojr./Desktop/project-repos/mobile-app/venv/lib/python3.12/site-packages (from torch) (3.1.6)\n",
      "Requirement already satisfied: fsspec in /Users/israelavendanojr./Desktop/project-repos/mobile-app/venv/lib/python3.12/site-packages (from torch) (2025.5.1)\n",
      "Requirement already satisfied: numpy in /Users/israelavendanojr./Desktop/project-repos/mobile-app/venv/lib/python3.12/site-packages (from torchvision) (1.26.4)\n",
      "Requirement already satisfied: pillow!=8.3.*,>=5.3.0 in /Users/israelavendanojr./Desktop/project-repos/mobile-app/venv/lib/python3.12/site-packages (from torchvision) (11.3.0)\n",
      "Requirement already satisfied: mpmath<1.4,>=1.1.0 in /Users/israelavendanojr./Desktop/project-repos/mobile-app/venv/lib/python3.12/site-packages (from sympy>=1.13.3->torch) (1.3.0)\n",
      "Requirement already satisfied: MarkupSafe>=2.0 in /Users/israelavendanojr./Desktop/project-repos/mobile-app/venv/lib/python3.12/site-packages (from jinja2->torch) (3.0.2)\n",
      "\n",
      "\u001b[1m[\u001b[0m\u001b[34;49mnotice\u001b[0m\u001b[1;39;49m]\u001b[0m\u001b[39;49m A new release of pip is available: \u001b[0m\u001b[31;49m25.0.1\u001b[0m\u001b[39;49m -> \u001b[0m\u001b[32;49m25.1.1\u001b[0m\n",
      "\u001b[1m[\u001b[0m\u001b[34;49mnotice\u001b[0m\u001b[1;39;49m]\u001b[0m\u001b[39;49m To update, run: \u001b[0m\u001b[32;49mpip install --upgrade pip\u001b[0m\n",
      "Note: you may need to restart the kernel to use updated packages.\n"
     ]
    }
   ],
   "source": [
    "% pip install torch torchvision torchaudio"
   ]
  },
  {
   "cell_type": "code",
   "execution_count": null,
   "id": "58a0428a",
   "metadata": {},
   "outputs": [],
   "source": [
    "# LIBRARIES\n",
    "\n",
    "import torch\n",
    "import torch.nn as nn\n",
    "import torch.optim as optim"
   ]
  },
  {
   "cell_type": "code",
   "execution_count": null,
   "id": "3339c1e9",
   "metadata": {},
   "outputs": [],
   "source": [
    "# CONSTANTS\n",
    "\n",
    "NUM_KEYPOINTS = 33  # MediaPipe's gives 33 landmakrs\n",
    "FEATURES_PER_KEYPOINT = 2  # Only using (x, y) coordinates for now\n",
    "SEQUENCE_LENGTH = 16  # Number of frames analyzed at a time\n",
    "NUM_CLASSES = 2  # \"eccentric\", \"concentric\"\n",
    "INPUT_SIZE = NUM_KEYPOINTS * FEATURES_PER_KEYPOINT  # 66\n"
   ]
  },
  {
   "cell_type": "code",
   "execution_count": 11,
   "id": "abcbb2d5",
   "metadata": {},
   "outputs": [],
   "source": [
    "# LSTM-based Rep Stage Classifier\n",
    "# This model takes a short sequence of pose keypoints (e.g., 16 frames)\n",
    "# and predicts the current stage of the exercise: eccentric or concentric.\n",
    "\n",
    "class RepStageClassifier(nn.Module):\n",
    "    def __init__(self, input_size, hidden_size=128, num_classes=NUM_CLASSES):\n",
    "        super(RepStageClassifier, self).__init__()\n",
    "        \n",
    "        # LSTM processes the input sequence of keypoints over time\n",
    "        # input_size: features per frame (e.g., 66 for 33 keypoints × 2D)\n",
    "        # hidden_size: size of LSTM's internal memory (can be tuned)\n",
    "        self.lstm = nn.LSTM(input_size, hidden_size, batch_first=True)\n",
    "        \n",
    "        # Final linear layer maps LSTM output to class scores (eccentric/concentric)\n",
    "        self.fc = nn.Linear(hidden_size, num_classes)\n",
    "    \n",
    "    def forward(self, x):\n",
    "        # Input x shape: (batch_size, sequence_length, input_size)\n",
    "        \n",
    "        # LSTM returns:\n",
    "        # - out: LSTM outputs for each time step\n",
    "        # - _: (hidden_state, cell_state), not used here\n",
    "        out, _ = self.lstm(x)\n",
    "        \n",
    "        # We use the output from the last time step (i.e., the last frame in the sequence)\n",
    "        # to make the final prediction\n",
    "        out = self.fc(out[:, -1, :])  # shape: (batch_size, num_classes)\n",
    "        return out\n",
    "\n",
    "# Instantiate the model with the correct input size\n",
    "model = RepStageClassifier(INPUT_SIZE)\n"
   ]
  },
  {
   "cell_type": "code",
   "execution_count": 13,
   "id": "7545cfdf",
   "metadata": {},
   "outputs": [],
   "source": [
    "# Define loss function — CrossEntropyLoss good for classification\n",
    "criterion = nn.CrossEntropyLoss()\n",
    "\n",
    "# Define optimizer — Adam widely used for sequence models like LSTM\n",
    "optimizer = optim.Adam(model.parameters(), lr=0.001)\n"
   ]
  },
  {
   "cell_type": "code",
   "execution_count": 15,
   "id": "b3498c0b",
   "metadata": {},
   "outputs": [],
   "source": [
    "batch_size = 4\n",
    "dummy_input = torch.randn(batch_size, SEQUENCE_LENGTH, INPUT_SIZE)\n"
   ]
  },
  {
   "cell_type": "code",
   "execution_count": 16,
   "id": "8f9f5ada",
   "metadata": {},
   "outputs": [
    {
     "name": "stdout",
     "output_type": "stream",
     "text": [
      "Dummy labels: tensor([1, 0, 0, 0])\n"
     ]
    }
   ],
   "source": [
    "# Random labels for 4 samples (0 = eccentric, 1 = concentric)\n",
    "dummy_labels = torch.randint(0, NUM_CLASSES, (batch_size,))\n",
    "print(\"Dummy labels:\", dummy_labels)\n"
   ]
  },
  {
   "cell_type": "code",
   "execution_count": 17,
   "id": "fef0371a",
   "metadata": {},
   "outputs": [
    {
     "name": "stdout",
     "output_type": "stream",
     "text": [
      "Training loss: 0.6813094019889832\n",
      "Predicted stages: tensor([0, 0, 0, 0])\n",
      "True stages:      tensor([1, 0, 0, 0])\n"
     ]
    }
   ],
   "source": [
    "# FULL DUMMY TRAINING\n",
    "\n",
    "# Reset gradients\n",
    "optimizer.zero_grad()\n",
    "\n",
    "# Forward pass\n",
    "outputs = model(dummy_input)\n",
    "\n",
    "# Calculate loss\n",
    "loss = criterion(outputs, dummy_labels)\n",
    "\n",
    "# Backward pass\n",
    "loss.backward()\n",
    "\n",
    "# Update weights\n",
    "optimizer.step()\n",
    "\n",
    "# Print results\n",
    "print(\"Training loss:\", loss.item())\n",
    "\n",
    "# Optional: Print predicted class\n",
    "predicted = torch.argmax(outputs, dim=1)\n",
    "print(\"Predicted stages:\", predicted)\n",
    "print(\"True stages:     \", dummy_labels)\n"
   ]
  }
 ],
 "metadata": {
  "kernelspec": {
   "display_name": "venv",
   "language": "python",
   "name": "python3"
  },
  "language_info": {
   "codemirror_mode": {
    "name": "ipython",
    "version": 3
   },
   "file_extension": ".py",
   "mimetype": "text/x-python",
   "name": "python",
   "nbconvert_exporter": "python",
   "pygments_lexer": "ipython3",
   "version": "3.12.10"
  }
 },
 "nbformat": 4,
 "nbformat_minor": 5
}
