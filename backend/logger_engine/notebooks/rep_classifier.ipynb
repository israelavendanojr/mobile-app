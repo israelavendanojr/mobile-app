{
 "cells": [
  {
   "cell_type": "code",
   "execution_count": null,
   "id": "64b23d2e",
   "metadata": {},
   "outputs": [
    {
     "name": "stderr",
     "output_type": "stream",
     "text": [
      "UsageError: Line magic function `%` not found.\n"
     ]
    }
   ],
   "source": [
    "% pip install torch torchvision torchaudio"
   ]
  },
  {
   "cell_type": "code",
   "execution_count": 32,
   "id": "58a0428a",
   "metadata": {},
   "outputs": [],
   "source": [
    "# LIBRARIES\n",
    "\n",
    "import torch\n",
    "from torch import tensor\n",
    "import torch.nn as nn\n",
    "import torch.optim as optim\n",
    "from torch.utils.data import Dataset, DataLoader\n",
    "import numpy as np\n",
    "import json\n",
    "from sklearn.metrics import classification_report\n",
    "from collections import Counter\n"
   ]
  },
  {
   "cell_type": "code",
   "execution_count": 33,
   "id": "3339c1e9",
   "metadata": {},
   "outputs": [],
   "source": [
    "# CONSTANTS\n",
    "\n",
    "NUM_KEYPOINTS = 33  # MediaPipe's gives 33 landmakrs\n",
    "FEATURES_PER_KEYPOINT = 2  # Only using (x, y) coordinates for now\n",
    "SEQUENCE_LENGTH = 16  # Number of frames analyzed at a time\n",
    "NUM_CLASSES = 3  # \"eccentric\", \"concentric\", \"none\"\n",
    "LABEL_MAP = {\"none\": 0, \"eccentric\": 1, \"concentric\": 2}\n",
    "INPUT_SIZE = NUM_KEYPOINTS * FEATURES_PER_KEYPOINT  # 66\n"
   ]
  },
  {
   "cell_type": "code",
   "execution_count": 34,
   "id": "d006dd97",
   "metadata": {},
   "outputs": [],
   "source": [
    "class RepStageDataset(Dataset):\n",
    "    def __init__(self, npy_path, json_path, sequence_length=16):\n",
    "        self.pose_data = np.load(npy_path)[:, :66]  # (x, y) only\n",
    "        with open(json_path) as f:\n",
    "            labels = json.load(f)[\"rep_stages\"]\n",
    "        self.labels = [LABEL_MAP[l] for l in labels]\n",
    "        self.seq_len = sequence_length\n",
    "        assert len(self.pose_data) == len(self.labels)\n",
    "\n",
    "    def __len__(self):\n",
    "        return len(self.pose_data) - self.seq_len\n",
    "\n",
    "    def __getitem__(self, idx):\n",
    "        x = self.pose_data[idx : idx + self.seq_len]\n",
    "        y = self.labels[idx + self.seq_len // 2]  # label for center frame\n",
    "        return torch.tensor(x, dtype=torch.float32), torch.tensor(y)\n"
   ]
  },
  {
   "cell_type": "code",
   "execution_count": 35,
   "id": "2534e699",
   "metadata": {},
   "outputs": [],
   "source": [
    "dataset = RepStageDataset(\n",
    "    npy_path=\"../data/pose_np/sldl_israel_npy.npy\",\n",
    "    json_path=\"../data/label_data/sldl_israel_data.json\",\n",
    "    sequence_length=SEQUENCE_LENGTH\n",
    ")\n",
    "\n",
    "loader = DataLoader(dataset, batch_size=32, shuffle=True)"
   ]
  },
  {
   "cell_type": "code",
   "execution_count": 36,
   "id": "abcbb2d5",
   "metadata": {},
   "outputs": [],
   "source": [
    "# LSTM-based Rep Stage Classifier\n",
    "# This model takes a short sequence of pose keypoints (e.g., 16 frames)\n",
    "# and predicts the current stage of the exercise: eccentric or concentric.\n",
    "\n",
    "class RepStageClassifier(nn.Module):\n",
    "    def __init__(self, input_size, hidden_size=128, num_classes=NUM_CLASSES):\n",
    "        super(RepStageClassifier, self).__init__()\n",
    "        \n",
    "        # LSTM processes the input sequence of keypoints over time\n",
    "        # input_size: features per frame (e.g., 66 for 33 keypoints × 2D)\n",
    "        # hidden_size: size of LSTM's internal memory (can be tuned)\n",
    "        self.lstm = nn.LSTM(input_size, hidden_size, batch_first=True)\n",
    "        \n",
    "        # Final linear layer maps LSTM output to class scores (eccentric/concentric)\n",
    "        self.fc = nn.Linear(hidden_size, num_classes)\n",
    "    \n",
    "    def forward(self, x):\n",
    "        # Input x shape: (batch_size, sequence_length, input_size)\n",
    "        \n",
    "        # LSTM returns:\n",
    "        # - out: LSTM outputs for each time step\n",
    "        # - _: (hidden_state, cell_state), not used here\n",
    "        out, _ = self.lstm(x)\n",
    "        \n",
    "        # We use the output from the last time step (i.e., the last frame in the sequence)\n",
    "        # to make the final prediction\n",
    "        out = self.fc(out[:, -1, :])  # shape: (batch_size, num_classes)\n",
    "        return out\n",
    "\n",
    "# Instantiate the model with the correct input size\n",
    "model = RepStageClassifier(INPUT_SIZE)\n"
   ]
  },
  {
   "cell_type": "code",
   "execution_count": 44,
   "id": "7545cfdf",
   "metadata": {},
   "outputs": [
    {
     "name": "stdout",
     "output_type": "stream",
     "text": [
      "Class weights: [1, 10, 10]\n"
     ]
    }
   ],
   "source": [
    "# Define loss function — CrossEntropyLoss good for classification\n",
    "\n",
    "# Count your dataset's label distribution\n",
    "class_counts = Counter(dataset.labels)\n",
    "total = sum(class_counts.values())\n",
    "\n",
    "# Compute inverse frequency weights\n",
    "weights = [total / class_counts[i] for i in range(NUM_CLASSES)]\n",
    "weights = [1, 10, 10]\n",
    "\n",
    "# Print them to verify (optional)\n",
    "print(\"Class weights:\", weights)\n",
    "\n",
    "# Use the weighted loss\n",
    "criterion = nn.CrossEntropyLoss(weight=torch.tensor(weights, dtype=torch.float32).to(device))\n",
    "\n",
    "\n",
    "# Define optimizer — Adam widely used for sequence models like LSTM\n",
    "optimizer = optim.Adam(model.parameters(), lr=0.001)\n"
   ]
  },
  {
   "cell_type": "code",
   "execution_count": 45,
   "id": "fef0371a",
   "metadata": {},
   "outputs": [
    {
     "name": "stdout",
     "output_type": "stream",
     "text": [
      "Epoch 1 | Loss: 113.2450 | Accuracy: 13.01%\n",
      "Epoch 2 | Loss: 113.2349 | Accuracy: 13.01%\n",
      "Epoch 3 | Loss: 113.1904 | Accuracy: 13.01%\n",
      "Epoch 4 | Loss: 113.2862 | Accuracy: 13.01%\n",
      "Epoch 5 | Loss: 113.2474 | Accuracy: 13.01%\n",
      "Epoch 6 | Loss: 113.2296 | Accuracy: 13.01%\n",
      "Epoch 7 | Loss: 113.1979 | Accuracy: 13.01%\n",
      "Epoch 8 | Loss: 113.2654 | Accuracy: 13.01%\n",
      "Epoch 9 | Loss: 113.1955 | Accuracy: 13.01%\n",
      "Epoch 10 | Loss: 113.2320 | Accuracy: 13.01%\n"
     ]
    }
   ],
   "source": [
    "# TRAINING LOOP\n",
    "EPOCHS = 10\n",
    "device = torch.device(\"cuda\" if torch.cuda.is_available() else \"cpu\")\n",
    "model = RepStageClassifier(INPUT_SIZE).to(device)\n",
    "\n",
    "for epoch in range(EPOCHS):\n",
    "    model.train()\n",
    "    total_loss, correct, total = 0, 0, 0\n",
    "\n",
    "    for x, y in loader:\n",
    "        x, y = x.to(device), y.to(device)\n",
    "\n",
    "        optimizer.zero_grad()\n",
    "        outputs = model(x)\n",
    "        loss = criterion(outputs, y)\n",
    "        loss.backward()\n",
    "        optimizer.step()\n",
    "\n",
    "        total_loss += loss.item()\n",
    "        correct += (outputs.argmax(dim=1) == y).sum().item()\n",
    "        total += y.size(0)\n",
    "\n",
    "    print(f\"Epoch {epoch+1} | Loss: {total_loss:.4f} | Accuracy: {correct / total:.2%}\")\n"
   ]
  },
  {
   "cell_type": "code",
   "execution_count": 39,
   "id": "fde5e469",
   "metadata": {},
   "outputs": [
    {
     "name": "stdout",
     "output_type": "stream",
     "text": [
      "              precision    recall  f1-score   support\n",
      "\n",
      "        none       0.00      0.00      0.00      2379\n",
      "   eccentric       0.14      1.00      0.24       452\n",
      "  concentric       0.00      0.00      0.00       475\n",
      "\n",
      "    accuracy                           0.14      3306\n",
      "   macro avg       0.05      0.33      0.08      3306\n",
      "weighted avg       0.02      0.14      0.03      3306\n",
      "\n"
     ]
    },
    {
     "name": "stderr",
     "output_type": "stream",
     "text": [
      "/Users/israelavendanojr./Desktop/project-repos/mobile-app/venv/lib/python3.12/site-packages/sklearn/metrics/_classification.py:1706: UndefinedMetricWarning: Precision is ill-defined and being set to 0.0 in labels with no predicted samples. Use `zero_division` parameter to control this behavior.\n",
      "  _warn_prf(average, modifier, f\"{metric.capitalize()} is\", result.shape[0])\n",
      "/Users/israelavendanojr./Desktop/project-repos/mobile-app/venv/lib/python3.12/site-packages/sklearn/metrics/_classification.py:1706: UndefinedMetricWarning: Precision is ill-defined and being set to 0.0 in labels with no predicted samples. Use `zero_division` parameter to control this behavior.\n",
      "  _warn_prf(average, modifier, f\"{metric.capitalize()} is\", result.shape[0])\n",
      "/Users/israelavendanojr./Desktop/project-repos/mobile-app/venv/lib/python3.12/site-packages/sklearn/metrics/_classification.py:1706: UndefinedMetricWarning: Precision is ill-defined and being set to 0.0 in labels with no predicted samples. Use `zero_division` parameter to control this behavior.\n",
      "  _warn_prf(average, modifier, f\"{metric.capitalize()} is\", result.shape[0])\n"
     ]
    }
   ],
   "source": [
    "# After training, evaluate\n",
    "all_preds, all_labels = [], []\n",
    "\n",
    "model.eval()\n",
    "with torch.no_grad():\n",
    "    for x, y in loader:\n",
    "        x, y = x.to(device), y.to(device)\n",
    "        preds = model(x).argmax(dim=1)\n",
    "        all_preds.extend(preds.cpu().numpy())\n",
    "        all_labels.extend(y.cpu().numpy())\n",
    "\n",
    "print(classification_report(all_labels, all_preds, target_names=[\"none\", \"eccentric\", \"concentric\"]))\n"
   ]
  },
  {
   "cell_type": "code",
   "execution_count": 40,
   "id": "a89f5cfb",
   "metadata": {},
   "outputs": [
    {
     "data": {
      "image/png": "[encoded data removed]",
      "text/plain": [
       "<Figure size 640x480 with 1 Axes>"
      ]
     },
     "metadata": {},
     "output_type": "display_data"
    }
   ],
   "source": [
    "# Plot predicted stage vs. time\n",
    "# Run inference on the entire sequence (no batching)\n",
    "model.eval()\n",
    "with torch.no_grad():\n",
    "    preds = []\n",
    "    for i in range(len(dataset)):\n",
    "        x, _ = dataset[i]\n",
    "        pred = model(x.unsqueeze(0).to(device)).argmax(dim=1).item()\n",
    "        preds.append(pred)\n",
    "\n",
    "import matplotlib.pyplot as plt\n",
    "plt.plot(preds, label=\"Predicted Stage\")\n",
    "plt.plot(dataset.labels[SEQUENCE_LENGTH//2:], label=\"True Stage\", alpha=0.5)\n",
    "plt.legend()\n",
    "plt.title(\"Predicted vs True Rep Stage\")\n",
    "plt.show()\n"
   ]
  }
 ],
 "metadata": {
  "kernelspec": {
   "display_name": "venv",
   "language": "python",
   "name": "python3"
  },
  "language_info": {
   "codemirror_mode": {
    "name": "ipython",
    "version": 3
   },
   "file_extension": ".py",
   "mimetype": "text/x-python",
   "name": "python",
   "nbconvert_exporter": "python",
   "pygments_lexer": "ipython3",
   "version": "3.12.10"
  }
 },
 "nbformat": 4,
 "nbformat_minor": 5
}
