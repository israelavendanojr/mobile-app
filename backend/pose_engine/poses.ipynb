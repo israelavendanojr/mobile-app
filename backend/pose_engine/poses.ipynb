{
 "cells": [
  {
   "cell_type": "code",
   "execution_count": 1,
   "id": "8cb65196",
   "metadata": {},
   "outputs": [
    {
     "name": "stdout",
     "output_type": "stream",
     "text": [
      "Requirement already satisfied: mediapipe in /Users/israelavendanojr./Desktop/project-repos/mobile-app/venv/lib/python3.12/site-packages (0.10.21)\n",
      "Requirement already satisfied: opencv-python in /Users/israelavendanojr./Desktop/project-repos/mobile-app/venv/lib/python3.12/site-packages (4.11.0.86)\n",
      "Requirement already satisfied: absl-py in /Users/israelavendanojr./Desktop/project-repos/mobile-app/venv/lib/python3.12/site-packages (from mediapipe) (2.3.1)\n",
      "Requirement already satisfied: attrs>=19.1.0 in /Users/israelavendanojr./Desktop/project-repos/mobile-app/venv/lib/python3.12/site-packages (from mediapipe) (25.3.0)\n",
      "Requirement already satisfied: flatbuffers>=2.0 in /Users/israelavendanojr./Desktop/project-repos/mobile-app/venv/lib/python3.12/site-packages (from mediapipe) (25.2.10)\n",
      "Requirement already satisfied: jax in /Users/israelavendanojr./Desktop/project-repos/mobile-app/venv/lib/python3.12/site-packages (from mediapipe) (0.6.2)\n",
      "Requirement already satisfied: jaxlib in /Users/israelavendanojr./Desktop/project-repos/mobile-app/venv/lib/python3.12/site-packages (from mediapipe) (0.6.2)\n",
      "Requirement already satisfied: matplotlib in /Users/israelavendanojr./Desktop/project-repos/mobile-app/venv/lib/python3.12/site-packages (from mediapipe) (3.10.3)\n",
      "Requirement already satisfied: numpy<2 in /Users/israelavendanojr./Desktop/project-repos/mobile-app/venv/lib/python3.12/site-packages (from mediapipe) (1.26.4)\n",
      "Requirement already satisfied: opencv-contrib-python in /Users/israelavendanojr./Desktop/project-repos/mobile-app/venv/lib/python3.12/site-packages (from mediapipe) (4.11.0.86)\n",
      "Requirement already satisfied: protobuf<5,>=4.25.3 in /Users/israelavendanojr./Desktop/project-repos/mobile-app/venv/lib/python3.12/site-packages (from mediapipe) (4.25.8)\n",
      "Requirement already satisfied: sounddevice>=0.4.4 in /Users/israelavendanojr./Desktop/project-repos/mobile-app/venv/lib/python3.12/site-packages (from mediapipe) (0.5.2)\n",
      "Requirement already satisfied: sentencepiece in /Users/israelavendanojr./Desktop/project-repos/mobile-app/venv/lib/python3.12/site-packages (from mediapipe) (0.2.0)\n",
      "Requirement already satisfied: CFFI>=1.0 in /Users/israelavendanojr./Desktop/project-repos/mobile-app/venv/lib/python3.12/site-packages (from sounddevice>=0.4.4->mediapipe) (1.17.1)\n",
      "Requirement already satisfied: ml_dtypes>=0.5.0 in /Users/israelavendanojr./Desktop/project-repos/mobile-app/venv/lib/python3.12/site-packages (from jax->mediapipe) (0.5.1)\n",
      "Requirement already satisfied: opt_einsum in /Users/israelavendanojr./Desktop/project-repos/mobile-app/venv/lib/python3.12/site-packages (from jax->mediapipe) (3.4.0)\n",
      "Requirement already satisfied: scipy>=1.12 in /Users/israelavendanojr./Desktop/project-repos/mobile-app/venv/lib/python3.12/site-packages (from jax->mediapipe) (1.16.0)\n",
      "Requirement already satisfied: contourpy>=1.0.1 in /Users/israelavendanojr./Desktop/project-repos/mobile-app/venv/lib/python3.12/site-packages (from matplotlib->mediapipe) (1.3.2)\n",
      "Requirement already satisfied: cycler>=0.10 in /Users/israelavendanojr./Desktop/project-repos/mobile-app/venv/lib/python3.12/site-packages (from matplotlib->mediapipe) (0.12.1)\n",
      "Requirement already satisfied: fonttools>=4.22.0 in /Users/israelavendanojr./Desktop/project-repos/mobile-app/venv/lib/python3.12/site-packages (from matplotlib->mediapipe) (4.58.5)\n",
      "Requirement already satisfied: kiwisolver>=1.3.1 in /Users/israelavendanojr./Desktop/project-repos/mobile-app/venv/lib/python3.12/site-packages (from matplotlib->mediapipe) (1.4.8)\n",
      "Requirement already satisfied: packaging>=20.0 in /Users/israelavendanojr./Desktop/project-repos/mobile-app/venv/lib/python3.12/site-packages (from matplotlib->mediapipe) (25.0)\n",
      "Requirement already satisfied: pillow>=8 in /Users/israelavendanojr./Desktop/project-repos/mobile-app/venv/lib/python3.12/site-packages (from matplotlib->mediapipe) (11.3.0)\n",
      "Requirement already satisfied: pyparsing>=2.3.1 in /Users/israelavendanojr./Desktop/project-repos/mobile-app/venv/lib/python3.12/site-packages (from matplotlib->mediapipe) (3.2.3)\n",
      "Requirement already satisfied: python-dateutil>=2.7 in /Users/israelavendanojr./Desktop/project-repos/mobile-app/venv/lib/python3.12/site-packages (from matplotlib->mediapipe) (2.9.0.post0)\n",
      "Requirement already satisfied: pycparser in /Users/israelavendanojr./Desktop/project-repos/mobile-app/venv/lib/python3.12/site-packages (from CFFI>=1.0->sounddevice>=0.4.4->mediapipe) (2.22)\n",
      "Requirement already satisfied: six>=1.5 in /Users/israelavendanojr./Desktop/project-repos/mobile-app/venv/lib/python3.12/site-packages (from python-dateutil>=2.7->matplotlib->mediapipe) (1.17.0)\n",
      "\n",
      "\u001b[1m[\u001b[0m\u001b[34;49mnotice\u001b[0m\u001b[1;39;49m]\u001b[0m\u001b[39;49m A new release of pip is available: \u001b[0m\u001b[31;49m25.0.1\u001b[0m\u001b[39;49m -> \u001b[0m\u001b[32;49m25.1.1\u001b[0m\n",
      "\u001b[1m[\u001b[0m\u001b[34;49mnotice\u001b[0m\u001b[1;39;49m]\u001b[0m\u001b[39;49m To update, run: \u001b[0m\u001b[32;49mpip install --upgrade pip\u001b[0m\n",
      "Note: you may need to restart the kernel to use updated packages.\n"
     ]
    }
   ],
   "source": [
    "%pip install mediapipe opencv-python"
   ]
  },
  {
   "cell_type": "code",
   "execution_count": 2,
   "id": "efca0b47",
   "metadata": {},
   "outputs": [],
   "source": [
    "import cv2\n",
    "import mediapipe as mp\n",
    "import numpy as np\n",
    "\n",
    "# Setup MediaPipe, drawing for visualization, pose grabs pose estimation model\n",
    "mp_drawing = mp.solutions.drawing_utils\n",
    "mp_pose = mp.solutions.pose"
   ]
  },
  {
   "cell_type": "code",
   "execution_count": null,
   "id": "78d2f347",
   "metadata": {},
   "outputs": [],
   "source": [
    "# VIDEO CAPTURE\n",
    "\n",
    "# Grabbing video capture device, 1 is the second camera (webcam)\n",
    "cap = cv2.VideoCapture(1)\n",
    "\n",
    "# Loop through feed\n",
    "while cap.isOpened():\n",
    "    # Read feed, ret is return value, frame is the image\n",
    "    ret, frame = cap.read()\n",
    "    # Gives us a window to display the feed\n",
    "    cv2.imshow('MediaPipe Pose', frame)\n",
    "    \n",
    "    # Press 'q' to quit, 10 is the delay (ms), 0xFF is last key pressed\n",
    "    if cv2.waitKey(10) & 0xFF == ord('q'):\n",
    "        break\n",
    "\n",
    "# Release the capture\n",
    "cap.release()\n",
    "cv2.destroyAllWindows()"
   ]
  },
  {
   "cell_type": "code",
   "execution_count": null,
   "id": "8464c693",
   "metadata": {},
   "outputs": [
    {
     "name": "stderr",
     "output_type": "stream",
     "text": [
      "I0000 00:00:1752013833.033756 5672429 gl_context.cc:369] GL version: 2.1 (2.1 Metal - 89.4), renderer: Apple M2\n",
      "W0000 00:00:1752013833.132285 5686688 inference_feedback_manager.cc:114] Feedback manager requires a model with a single signature inference. Disabling support for feedback tensors.\n",
      "W0000 00:00:1752013833.148800 5686691 inference_feedback_manager.cc:114] Feedback manager requires a model with a single signature inference. Disabling support for feedback tensors.\n"
     ]
    }
   ],
   "source": [
    "# MAKING DETECTIONS\n",
    "\n",
    "cap = cv2.VideoCapture(1)\n",
    "with mp_pose.Pose(min_detection_confidence=0.5, min_tracking_confidence=0.5) as pose:\n",
    "    while cap.isOpened():\n",
    "        ret, frame = cap.read()\n",
    "        \n",
    "        # Recolor image, BGR to RGB\n",
    "        image = cv2.cvtColor(frame, cv2.COLOR_BGR2RGB)\n",
    "        image.flags.writeable = False\n",
    "        \n",
    "        # Flip image\n",
    "        image = cv2.flip(image, 1)\n",
    "        \n",
    "        # Make detection\n",
    "        results = pose.process(image)\n",
    "\n",
    "        \n",
    "        # Recolor image back, RGB to BGR\n",
    "        image.flags.writeable = True\n",
    "        image = cv2.cvtColor(image, cv2.COLOR_RGB2BGR)\n",
    "        \n",
    "        # Render and show detections\n",
    "        mp_drawing.draw_landmarks(image, results.pose_landmarks, mp_pose.POSE_CONNECTIONS)\n",
    "        cv2.imshow('MediaPipe Pose', image)\n",
    "        \n",
    "        # Press 'q' to quit, 10 is the delay (ms), 0xFF is last key pressed\n",
    "        if cv2.waitKey(10) & 0xFF == ord('q'):\n",
    "            break\n",
    "\n",
    "# Release the capture\n",
    "cap.release()\n",
    "cv2.destroyAllWindows()"
   ]
  }
 ],
 "metadata": {
  "kernelspec": {
   "display_name": "venv",
   "language": "python",
   "name": "python3"
  },
  "language_info": {
   "codemirror_mode": {
    "name": "ipython",
    "version": 3
   },
   "file_extension": ".py",
   "mimetype": "text/x-python",
   "name": "python",
   "nbconvert_exporter": "python",
   "pygments_lexer": "ipython3",
   "version": "3.12.10"
  }
 },
 "nbformat": 4,
 "nbformat_minor": 5
}
